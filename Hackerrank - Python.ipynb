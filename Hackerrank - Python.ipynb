{
 "cells": [
  {
   "cell_type": "markdown",
   "id": "7d6be057",
   "metadata": {},
   "source": [
    "# Athlete Sort"
   ]
  },
  {
   "cell_type": "code",
   "execution_count": 1,
   "id": "b560844d",
   "metadata": {},
   "outputs": [
    {
     "name": "stdout",
     "output_type": "stream",
     "text": [
      "5 3\n",
      "10 2 5\n",
      "7 1 0\n",
      "9 9 9\n",
      "1 23 12\n",
      "6 5 9\n",
      "1\n"
     ]
    }
   ],
   "source": [
    "nm = input().split()\n",
    "\n",
    "n = int(nm[0])\n",
    "\n",
    "m = int(nm[1])\n",
    "\n",
    "arr = []\n",
    "\n",
    "for _ in range(n):\n",
    "    arr.append(list(map(int, input().rstrip().split())))\n",
    "\n",
    "k = int(input())"
   ]
  },
  {
   "cell_type": "code",
   "execution_count": 2,
   "id": "7c5054fd",
   "metadata": {},
   "outputs": [
    {
     "data": {
      "text/plain": [
       "['5', '3']"
      ]
     },
     "execution_count": 2,
     "metadata": {},
     "output_type": "execute_result"
    }
   ],
   "source": [
    "nm"
   ]
  },
  {
   "cell_type": "code",
   "execution_count": 22,
   "id": "e833cd80",
   "metadata": {
    "scrolled": true
   },
   "outputs": [
    {
     "data": {
      "text/plain": [
       "5"
      ]
     },
     "execution_count": 22,
     "metadata": {},
     "output_type": "execute_result"
    }
   ],
   "source": [
    "n"
   ]
  },
  {
   "cell_type": "code",
   "execution_count": 23,
   "id": "c4f0f257",
   "metadata": {},
   "outputs": [
    {
     "data": {
      "text/plain": [
       "3"
      ]
     },
     "execution_count": 23,
     "metadata": {},
     "output_type": "execute_result"
    }
   ],
   "source": [
    "m"
   ]
  },
  {
   "cell_type": "code",
   "execution_count": 3,
   "id": "ee61c39c",
   "metadata": {
    "scrolled": true
   },
   "outputs": [
    {
     "data": {
      "text/plain": [
       "[[10, 2, 5], [7, 1, 0], [9, 9, 9], [1, 23, 12], [6, 5, 9]]"
      ]
     },
     "execution_count": 3,
     "metadata": {},
     "output_type": "execute_result"
    }
   ],
   "source": [
    "arr"
   ]
  },
  {
   "cell_type": "code",
   "execution_count": 45,
   "id": "8e6616e1",
   "metadata": {},
   "outputs": [],
   "source": [
    "arr.sort(key = lambda x: x[k])"
   ]
  },
  {
   "cell_type": "code",
   "execution_count": 46,
   "id": "46daa408",
   "metadata": {},
   "outputs": [
    {
     "name": "stdout",
     "output_type": "stream",
     "text": [
      "7 1 0\n",
      "10 2 5\n",
      "6 5 9\n",
      "9 9 9\n",
      "1 23 12\n"
     ]
    }
   ],
   "source": [
    "for ele in arr:\n",
    "    print(*ele)"
   ]
  },
  {
   "cell_type": "markdown",
   "id": "f9f3456f",
   "metadata": {},
   "source": [
    "Another method"
   ]
  },
  {
   "cell_type": "code",
   "execution_count": 8,
   "id": "7b784f73",
   "metadata": {},
   "outputs": [],
   "source": [
    "import numpy as np"
   ]
  },
  {
   "cell_type": "code",
   "execution_count": 10,
   "id": "4b545c9d",
   "metadata": {},
   "outputs": [
    {
     "data": {
      "text/plain": [
       "array([[10,  2,  5],\n",
       "       [ 7,  1,  0],\n",
       "       [ 9,  9,  9],\n",
       "       [ 1, 23, 12],\n",
       "       [ 6,  5,  9]])"
      ]
     },
     "execution_count": 10,
     "metadata": {},
     "output_type": "execute_result"
    }
   ],
   "source": [
    "np_arr = np.array(arr)\n",
    "np_arr"
   ]
  },
  {
   "cell_type": "code",
   "execution_count": 18,
   "id": "c4f0b1a7",
   "metadata": {
    "scrolled": true
   },
   "outputs": [],
   "source": [
    "np_sorted = np_arr[np_arr[:,k].argsort()]"
   ]
  },
  {
   "cell_type": "code",
   "execution_count": 20,
   "id": "2c216147",
   "metadata": {
    "scrolled": true
   },
   "outputs": [
    {
     "name": "stdout",
     "output_type": "stream",
     "text": [
      "7 1 0\n",
      "10 2 5\n",
      "6 5 9\n",
      "9 9 9\n",
      "1 23 12\n"
     ]
    }
   ],
   "source": [
    "for np_ele in np_sorted:\n",
    "    print(*np_ele)"
   ]
  },
  {
   "cell_type": "markdown",
   "id": "85bdfda8",
   "metadata": {},
   "source": [
    "Another method"
   ]
  },
  {
   "cell_type": "code",
   "execution_count": 9,
   "id": "4362d22d",
   "metadata": {},
   "outputs": [],
   "source": [
    "import pandas as pd"
   ]
  },
  {
   "cell_type": "code",
   "execution_count": 11,
   "id": "25a4020d",
   "metadata": {
    "scrolled": true
   },
   "outputs": [
    {
     "data": {
      "text/html": [
       "<div>\n",
       "<style scoped>\n",
       "    .dataframe tbody tr th:only-of-type {\n",
       "        vertical-align: middle;\n",
       "    }\n",
       "\n",
       "    .dataframe tbody tr th {\n",
       "        vertical-align: top;\n",
       "    }\n",
       "\n",
       "    .dataframe thead th {\n",
       "        text-align: right;\n",
       "    }\n",
       "</style>\n",
       "<table border=\"1\" class=\"dataframe\">\n",
       "  <thead>\n",
       "    <tr style=\"text-align: right;\">\n",
       "      <th></th>\n",
       "      <th>0</th>\n",
       "      <th>1</th>\n",
       "      <th>2</th>\n",
       "    </tr>\n",
       "  </thead>\n",
       "  <tbody>\n",
       "    <tr>\n",
       "      <th>0</th>\n",
       "      <td>10</td>\n",
       "      <td>2</td>\n",
       "      <td>5</td>\n",
       "    </tr>\n",
       "    <tr>\n",
       "      <th>1</th>\n",
       "      <td>7</td>\n",
       "      <td>1</td>\n",
       "      <td>0</td>\n",
       "    </tr>\n",
       "    <tr>\n",
       "      <th>2</th>\n",
       "      <td>9</td>\n",
       "      <td>9</td>\n",
       "      <td>9</td>\n",
       "    </tr>\n",
       "    <tr>\n",
       "      <th>3</th>\n",
       "      <td>1</td>\n",
       "      <td>23</td>\n",
       "      <td>12</td>\n",
       "    </tr>\n",
       "    <tr>\n",
       "      <th>4</th>\n",
       "      <td>6</td>\n",
       "      <td>5</td>\n",
       "      <td>9</td>\n",
       "    </tr>\n",
       "  </tbody>\n",
       "</table>\n",
       "</div>"
      ],
      "text/plain": [
       "    0   1   2\n",
       "0  10   2   5\n",
       "1   7   1   0\n",
       "2   9   9   9\n",
       "3   1  23  12\n",
       "4   6   5   9"
      ]
     },
     "execution_count": 11,
     "metadata": {},
     "output_type": "execute_result"
    }
   ],
   "source": [
    "df = pd.DataFrame(data = arr)"
   ]
  },
  {
   "cell_type": "code",
   "execution_count": 21,
   "id": "be4f1896",
   "metadata": {},
   "outputs": [],
   "source": [
    "df.sort_values(by=[k],inplace=True)"
   ]
  },
  {
   "cell_type": "code",
   "execution_count": 32,
   "id": "4eb87af7",
   "metadata": {
    "scrolled": true
   },
   "outputs": [],
   "source": [
    "record = df.to_records(index=False)"
   ]
  },
  {
   "cell_type": "code",
   "execution_count": 35,
   "id": "49678a19",
   "metadata": {
    "scrolled": true
   },
   "outputs": [
    {
     "name": "stdout",
     "output_type": "stream",
     "text": [
      "7 1 0\n",
      "10 2 5\n",
      "6 5 9\n",
      "9 9 9\n",
      "1 23 12\n"
     ]
    }
   ],
   "source": [
    "for rec in record:\n",
    "    print(*rec)"
   ]
  },
  {
   "cell_type": "code",
   "execution_count": null,
   "id": "6700865f",
   "metadata": {},
   "outputs": [],
   "source": []
  },
  {
   "cell_type": "markdown",
   "id": "03e1e2ed",
   "metadata": {},
   "source": [
    "# Triangle Quest"
   ]
  },
  {
   "cell_type": "code",
   "execution_count": null,
   "id": "ff13bad8",
   "metadata": {},
   "outputs": [],
   "source": [
    "Sample Input\n",
    "5"
   ]
  },
  {
   "cell_type": "code",
   "execution_count": null,
   "id": "6bb94df3",
   "metadata": {},
   "outputs": [],
   "source": [
    "Sample Output\n",
    "1\n",
    "22\n",
    "333\n",
    "4444\n"
   ]
  },
  {
   "cell_type": "code",
   "execution_count": 31,
   "id": "ab6aa0c2",
   "metadata": {},
   "outputs": [
    {
     "name": "stdout",
     "output_type": "stream",
     "text": [
      "5\n",
      "1\n",
      "22\n",
      "333\n",
      "4444\n"
     ]
    }
   ],
   "source": [
    "for i in range(1,int(input())): #More than 2 lines will result in 0 score. Do not leave a blank line also\n",
    "    print ((10**(i-1) + 10**(i-1) //9)*i)"
   ]
  },
  {
   "cell_type": "markdown",
   "id": "29094c3e",
   "metadata": {},
   "source": [
    "# Validating Email Addresses with Filter"
   ]
  },
  {
   "cell_type": "code",
   "execution_count": null,
   "id": "e37c606c",
   "metadata": {},
   "outputs": [],
   "source": [
    "Sample inputs---\n",
    "3\n",
    "lara@hackerrank.com\n",
    "brian-23@hackerrank.com\n",
    "britts_54@hackerrank.com"
   ]
  },
  {
   "cell_type": "markdown",
   "id": "a5f2dd43",
   "metadata": {},
   "source": [
    "Valid email addresses must follow these rules:\n",
    "\n",
    "1. It must have the username@websitename.extension format type.\n",
    "2. The username can only contain letters, digits, dashes and underscores [a-z],[A-Z],[0-9],[-,_].\n",
    "3. The website name can only have letters and digits [a-z],[A-Z],[0-9].\n",
    "4. The extension can only contain letters [a-z],[A-Z].\n",
    "5. The maximum length of the extension is 3.\n"
   ]
  },
  {
   "cell_type": "code",
   "execution_count": 1,
   "id": "1dd57db1",
   "metadata": {},
   "outputs": [],
   "source": [
    "import re"
   ]
  },
  {
   "cell_type": "code",
   "execution_count": 59,
   "id": "c5837c4a",
   "metadata": {},
   "outputs": [],
   "source": [
    "pattern  = \"^([a-zA-Z0-9_-])+\\@([a-zA-Z0-9])+\\.([a-zA-Z]){1,3}$\""
   ]
  },
  {
   "cell_type": "code",
   "execution_count": 69,
   "id": "01acda26",
   "metadata": {},
   "outputs": [],
   "source": [
    "if re.findall(pattern, s):\n",
    "    print(True)"
   ]
  },
  {
   "cell_type": "code",
   "execution_count": null,
   "id": "af261d25",
   "metadata": {},
   "outputs": [],
   "source": [
    "# Full code\n",
    "import re\n",
    "\n",
    "def fun(s):\n",
    "    # return True if s is a valid email, else return False\n",
    "    pattern  = \"^([a-zA-Z0-9_-])+\\@([a-zA-Z0-9])+\\.([a-zA-Z]){1,3}$\"\n",
    "\n",
    "    if re.findall(pattern, s):\n",
    "        return True\n",
    "    else:\n",
    "        return False\n",
    "\n",
    "def filter_mail(emails):\n",
    "    return list(filter(fun, emails))\n",
    "\n",
    "if __name__ == '__main__':\n",
    "    n = int(input())\n",
    "    emails = []\n",
    "    for _ in range(n):\n",
    "        emails.append(input())\n",
    "\n",
    "filtered_emails = filter_mail(emails)\n",
    "filtered_emails.sort()\n",
    "print(filtered_emails)"
   ]
  },
  {
   "cell_type": "code",
   "execution_count": null,
   "id": "e4676fba",
   "metadata": {},
   "outputs": [],
   "source": []
  },
  {
   "cell_type": "code",
   "execution_count": null,
   "id": "faca010f",
   "metadata": {},
   "outputs": [],
   "source": []
  },
  {
   "cell_type": "markdown",
   "id": "eeb202a1",
   "metadata": {},
   "source": [
    "# The Minion Game "
   ]
  },
  {
   "cell_type": "markdown",
   "id": "df3122b8",
   "metadata": {},
   "source": [
    "1. Create a code for making all the possible substring \n",
    "2. Define the start of the substring ...for ex: if kevin then start with vowel and if stuart start with consonant\n",
    "3. Calculate the points based on the substring occurence on the main string...i.e if substring occur 2 twice in main string then 2 points\n",
    "4. Print the winner name and points if draw then print draw\n",
    "5. Apply constraint on the string length"
   ]
  },
  {
   "cell_type": "code",
   "execution_count": 1,
   "id": "3fe6cbeb",
   "metadata": {},
   "outputs": [],
   "source": [
    "from itertools import combinations\n",
    "import re "
   ]
  },
  {
   "cell_type": "code",
   "execution_count": 12,
   "id": "89da50cf",
   "metadata": {},
   "outputs": [],
   "source": [
    "word = \"NANANNANANNANANNANANNANANNANANNANANNANANNANANNANANNANANNANANNANANNANANNANANNANANNANANNANANNANANNANANNANANNANANNANANNANANNANANNANANNANANNANANNANANNANANNANANNANANNANANNANANNANANNANANNANANNANANNANANNANANNANANNANANNANANNANANNANANNANANNANANNANANNANANNANANNANANNANANNANANNANANNANANNANANNANANNANANNANANNANANNANANNANANNANANNANANNANANNANANNANANNANANNANANNANANNANANNANANNANANNANANNANANNANANNANANNANANNANANNANANNANANNANANNANANNANANNANANNANANNANANNANANNANANNANANNANANNANANNANANNANANNANANNANANNANANNANANNANANNANANNANANNANANNANANNANANNANANNANANNANANNANANNANANNANANNANANNANANNANANNANANNANANNANANNANANNANANNANANNANANNANANNANANNANANNANANNANANNANANNANANNANANNANANNANANNANANNANANNANANNANANNANANNANANNANANNANANNANANNANANNANANNANANNANANNANANNANANNANANNANANNANANNANANNANANNANANNANANNANANNANANNANANNANANNANANNANANNANANNANANNANANNANANNANANNANANNANANNANANNANANNANANNANANNANANNANANNANANNANANNANANNANANNANANNANANNANANNANANNANANNANANNANANNANANNANANNANANNANANNANANNANANNANANNANANNANANNANANNANANNANANNANANNANANNANANNANANNANANNANANNANANNANANNANANNANANNANANNANANNANANNANANNANANNANANNANANNANANNANANNANANNANANNANANNANANNANANNANANNANANNANANNANANNANANNANANNANANNANANNANANNANANNANANNANANNANANNANANNANANNANANNANANNANANNANANNANANNANANNANANNANANNANANNANANNANANNANANNANANNANANNANANNANANNANANNANANNANANNANANNANANNANANNANANNANANNANANNANANNANANNANANNANANNANANNANANNANANNANANNANANNANANNANANNANANNANANNANANNANANNANANNANANNANANNANANNANANNANANNANANNANANNANANNANANNANANNANANNANANNANANNANANNANANNANANNANANNANANNANANNANANNANANNANANNANANNANANNANANNANANNANANNANANNANANNANANNANANNANANNANANNANANNANANNANANNANANNANANNANANNANANNANANNANANNANANNANANNANANNANANNANANNANANNANANNANANNANANNANANNANANNANANNANANNANANNANANNANANNANANNANANNANANNANANNANANNANANNANANNANANNANANNANANNANANNANANNANANNANANNANANNANANNANANNANANNANANNANANNANANNANANNANANNANANNANANNANANNANANNANANNANANNANANNANANNANANNANANNANANNANANNANANNANANNANANNANANNANANNANANNANANNANANNANANNANANNANANNANANNANANNANANNANANNANANNANANNANANNANANNANANNANANNANANNANANNANANNANANNANANNANANNANANNANANNANANNANANNANANNANANNANANNANANNANANNANANNANANNANANNANANNANANNANANNANANNANANNANANNANANNANANNANANNANANNANANNANANNANANNANANNANANNANANNANANNANANNANANNANANNANANNANANNANANNANANNANANNANANNANANNANANNANANNANANNANANNANANNANANNANANNANANNANANNANANNANANNANANNANANNANANNANANNANANNANANNANANNANANNANANNANANNANANNANANNANANNANANNANANNANANNANANNANANNANANNANANNANANNANANNANANNANANNANANNANANNANANNANANNANANNANANNANANNANANNANANNANANNANANNANANNANANNANANNANANNANANNANANNANANNANANNANANNANANNANANNANANNANANNANANNANANNANANNANANNANANNANANNANANNANANNANANNANANNANANNANANNANANNANANNANANNANANNANANNANANNANANNANANNANANNANANNANANNANANNANANNANANNANANNANANNANANNANANNANANNANANNANANNANANNANANNANANNANANNANANNANANNANANNANANNANANNANANNANANNANANNANANNANANNANANNANANNANANNANANNANANNANANNANANNANANNANANNANANNANANNANANNANANNANANNANANNANANNANANNANANNANANNANANNANANNANANNANANNANANNANANNANANNANANNANANNANANNANANNANANNANANNANANNANANNANANNANANNANANNANANNANANNANANNANANNANANNANANNANANNANANNANANNANANNANANNANANNANANNANANNANANNANANNANANNANANNANANNANANNANANNANANNANANNANANNANANNANANNANANNANANNANANNANANNANANNANANNANANNANANNANANNANANNANANNANANNANANNANANNANANNANANNANANNANANNANANNANANNANANNANANNANANNANANNANANNANANNANANNANANNANANNANANNANANNANANNANANNANANNANANNANANNANANNANANNANANNANANNANANNANANNANANNANANNANANNANANNANANNANANNANANNANANNANANNANANNANANNANANNANANNANANNANANNANANNANANNANANNANANNANANNANANNANANNANANNANANNANANNANANNANANNANANNANANNANANNANANNANANNANANNANANNANANNANANNANANNANANNANANNANANNANANNANANNANANNANANNANANNANANNANANNANANNANANNANANNANANNANANNANANNANANNANANNANANNANANNANANNANANNANANNANANNANANNANANNANANNANANNANANNANANNANANNANANNANANNANANNANANNANANNANANNANANNANANNANANNANANNANANNANANNANANNANANNANANNANANNANANNANANNANANNANANNANANNANANNANANNANANNANANNANANNANANNANANNANANNANANNANANNANANNANANNANANNANANNANANNANANNANANNANANNANANNANANNANANNANANNANANNANANNANANNANANNANANNANANNANANNANANNANANNANANNANANNANANNANANNANANNANANNANANNANANNANANNANANNANANNANANNANANNANANNANANNANANNANANNANANNANANNANANNANANNANANNANANNANANNANANNANANNANANNANANNANANNANANNANANNANANNANANNANANNANANNANANNANANNANANNANANNANANNANANNANANNANANNANANNANANNANANNANANNANANNANANNANANNANANNANANNANANNANANNANANNANANNANANNANANNANANNANANNANANNANANNANANNANANNANANNANANNANANNANANNANANNANANNANANNANANNANANNANANNANANNANANNANANNANANNANANNANANNANANNANANNANANNANANNANANNANANNANANNANANNANANNANANNANANNANANNANANNANANNANANNANANNANANNANANNANANNANANNANANNANANNANANNANANNANANNANANNANANNANANNANANNANANNANANNANANNANANNANANNANANNANANNANANNANANNANANNANANNANANNANANNANANNANANNANANNANANNANANNANANNANANNANANNANANNANANNANANNANANNANANNANANNANANNANANNANANNANANNANANNANANNANANNANANNANANNANANNANANNANANNANANNANANNANANNANANNANANNANANNANANNANANNANANNANANNANANNANANNANANNANANNANANNANANNANANNANANNANANNANANNANANNANANNANANNANANNANANNANANNANANNANANNANANNANANNANANNANANNANANNANANNANANNANANNANANNANANNANANNANANNANANNANANNANANNANANNANANNANANNANANNANANNANANNANANNANANNANANNANANNANANNANANNANANNANANNANANNANANNANANNANANNANANNANANNANANNANANNANANNANANNANANNANANNANANNANANNANANNANANNANANNANANNANANNANANNANANNANANNANANNANANNANANNANANNANANNANANNANANNANANNANAN\""
   ]
  },
  {
   "cell_type": "code",
   "execution_count": 13,
   "id": "f2d53a30",
   "metadata": {
    "scrolled": true
   },
   "outputs": [
    {
     "data": {
      "text/plain": [
       "5000"
      ]
     },
     "execution_count": 13,
     "metadata": {},
     "output_type": "execute_result"
    }
   ],
   "source": [
    "len(word)"
   ]
  },
  {
   "cell_type": "code",
   "execution_count": 14,
   "id": "f0b951e5",
   "metadata": {},
   "outputs": [],
   "source": [
    "word = \"BANANA\""
   ]
  },
  {
   "cell_type": "code",
   "execution_count": 16,
   "id": "55f6fedd",
   "metadata": {},
   "outputs": [
    {
     "name": "stdout",
     "output_type": "stream",
     "text": [
      "stuart = 6\n",
      "kevin =5\n",
      "stuart = 10\n",
      "kevin =8\n",
      "stuart = 12\n",
      "kevin =9\n",
      "Stuart 12\n"
     ]
    }
   ],
   "source": [
    "vowels = set('AEIOU')\n",
    "stuart = kevin = 0\n",
    "\n",
    "for i, c in enumerate(word):\n",
    "    if c in vowels:\n",
    "        kevin += len(word) - i\n",
    "        print(f\"kevin ={kevin}\")\n",
    "    else:\n",
    "        stuart += len(word) - i\n",
    "        print(f\"stuart = {stuart}\")\n",
    "if stuart > kevin:\n",
    "    print('Stuart', stuart)\n",
    "elif kevin > stuart:\n",
    "    print('Kevin', kevin)\n",
    "else:\n",
    "    print('Draw')"
   ]
  },
  {
   "cell_type": "code",
   "execution_count": 73,
   "id": "540c30cd",
   "metadata": {},
   "outputs": [
    {
     "name": "stdout",
     "output_type": "stream",
     "text": [
      "yes\n"
     ]
    }
   ],
   "source": [
    "if (test_str.isupper()) and (len(test_str)>0 and len(test_str) <=1000000):\n",
    "    print(\"yes\")"
   ]
  },
  {
   "cell_type": "code",
   "execution_count": 74,
   "id": "af6083c6",
   "metadata": {},
   "outputs": [],
   "source": [
    "vowel  = ['A','E','I','O','U']"
   ]
  },
  {
   "cell_type": "code",
   "execution_count": 75,
   "id": "597e08f8",
   "metadata": {},
   "outputs": [],
   "source": [
    "res = (test_str[x:y] for x, y in combinations(\n",
    "            range(len(test_str) + 1), r = 2))"
   ]
  },
  {
   "cell_type": "code",
   "execution_count": 79,
   "id": "9b3bf09b",
   "metadata": {
    "scrolled": true
   },
   "outputs": [],
   "source": [
    "stuart_words = (x for x in result if x[0] not in vowel)"
   ]
  },
  {
   "cell_type": "code",
   "execution_count": 39,
   "id": "30144a33",
   "metadata": {},
   "outputs": [],
   "source": [
    "res = (test_str[x:y] for x, y in combinations(\n",
    "            range(len(test_str) + 1), r = 2))"
   ]
  },
  {
   "cell_type": "code",
   "execution_count": 81,
   "id": "642cde59",
   "metadata": {},
   "outputs": [],
   "source": [
    "kevin_words = (x for x in result if x[0] in vowel)"
   ]
  },
  {
   "cell_type": "code",
   "execution_count": 89,
   "id": "03a7e34f",
   "metadata": {},
   "outputs": [],
   "source": [
    "for word in kevin_words:\n",
    "    print(word)"
   ]
  },
  {
   "cell_type": "code",
   "execution_count": 90,
   "id": "a6614164",
   "metadata": {},
   "outputs": [],
   "source": [
    "# stuart_score = sum([test_str.count(word) for word in stuart_words])"
   ]
  },
  {
   "cell_type": "code",
   "execution_count": 83,
   "id": "257b5528",
   "metadata": {},
   "outputs": [],
   "source": [
    "# kevin_score = sum([test_str.count(word) for word in kevin_words])"
   ]
  },
  {
   "cell_type": "code",
   "execution_count": 84,
   "id": "49356420",
   "metadata": {},
   "outputs": [],
   "source": [
    "def overlapping_string(test_str, sub_string):\n",
    "    pos = 0\n",
    "    counter = 0\n",
    "    while(True):\n",
    "        pos = test_str.find(sub_string,pos)\n",
    "        if pos > -1:\n",
    "            counter += 1\n",
    "            pos += 1\n",
    "        else:\n",
    "            return counter\n",
    "        \n",
    "        "
   ]
  },
  {
   "cell_type": "code",
   "execution_count": 85,
   "id": "5a66429c",
   "metadata": {},
   "outputs": [
    {
     "ename": "TypeError",
     "evalue": "'generator' object is not subscriptable",
     "output_type": "error",
     "traceback": [
      "\u001b[0;31m---------------------------------------------------------------------------\u001b[0m",
      "\u001b[0;31mTypeError\u001b[0m                                 Traceback (most recent call last)",
      "\u001b[0;32m<ipython-input-85-1c8c1848b970>\u001b[0m in \u001b[0;36m<module>\u001b[0;34m\u001b[0m\n\u001b[0;32m----> 1\u001b[0;31m \u001b[0mkevin_score\u001b[0m \u001b[0;34m=\u001b[0m \u001b[0msum\u001b[0m\u001b[0;34m(\u001b[0m\u001b[0;34m(\u001b[0m\u001b[0moverlapping_string\u001b[0m\u001b[0;34m(\u001b[0m\u001b[0mtest_str\u001b[0m\u001b[0;34m,\u001b[0m \u001b[0mword\u001b[0m\u001b[0;34m)\u001b[0m \u001b[0;32mfor\u001b[0m \u001b[0mword\u001b[0m \u001b[0;32min\u001b[0m \u001b[0mkevin_words\u001b[0m\u001b[0;34m)\u001b[0m\u001b[0;34m)\u001b[0m\u001b[0;34m\u001b[0m\u001b[0;34m\u001b[0m\u001b[0m\n\u001b[0m",
      "\u001b[0;32m<ipython-input-85-1c8c1848b970>\u001b[0m in \u001b[0;36m<genexpr>\u001b[0;34m(.0)\u001b[0m\n\u001b[0;32m----> 1\u001b[0;31m \u001b[0mkevin_score\u001b[0m \u001b[0;34m=\u001b[0m \u001b[0msum\u001b[0m\u001b[0;34m(\u001b[0m\u001b[0;34m(\u001b[0m\u001b[0moverlapping_string\u001b[0m\u001b[0;34m(\u001b[0m\u001b[0mtest_str\u001b[0m\u001b[0;34m,\u001b[0m \u001b[0mword\u001b[0m\u001b[0;34m)\u001b[0m \u001b[0;32mfor\u001b[0m \u001b[0mword\u001b[0m \u001b[0;32min\u001b[0m \u001b[0mkevin_words\u001b[0m\u001b[0;34m)\u001b[0m\u001b[0;34m)\u001b[0m\u001b[0;34m\u001b[0m\u001b[0;34m\u001b[0m\u001b[0m\n\u001b[0m",
      "\u001b[0;32m<ipython-input-81-80608b75935d>\u001b[0m in \u001b[0;36m<genexpr>\u001b[0;34m(.0)\u001b[0m\n\u001b[0;32m----> 1\u001b[0;31m \u001b[0mkevin_words\u001b[0m \u001b[0;34m=\u001b[0m \u001b[0;34m(\u001b[0m\u001b[0mx\u001b[0m \u001b[0;32mfor\u001b[0m \u001b[0mx\u001b[0m \u001b[0;32min\u001b[0m \u001b[0mresult\u001b[0m \u001b[0;32mif\u001b[0m \u001b[0mx\u001b[0m\u001b[0;34m[\u001b[0m\u001b[0;36m0\u001b[0m\u001b[0;34m]\u001b[0m \u001b[0;32min\u001b[0m \u001b[0mvowel\u001b[0m\u001b[0;34m)\u001b[0m\u001b[0;34m\u001b[0m\u001b[0;34m\u001b[0m\u001b[0m\n\u001b[0m",
      "\u001b[0;31mTypeError\u001b[0m: 'generator' object is not subscriptable"
     ]
    }
   ],
   "source": [
    "kevin_score = sum((overlapping_string(test_str, word) for word in kevin_words))"
   ]
  },
  {
   "cell_type": "code",
   "execution_count": 86,
   "id": "84692841",
   "metadata": {},
   "outputs": [
    {
     "ename": "TypeError",
     "evalue": "'generator' object is not subscriptable",
     "output_type": "error",
     "traceback": [
      "\u001b[0;31m---------------------------------------------------------------------------\u001b[0m",
      "\u001b[0;31mTypeError\u001b[0m                                 Traceback (most recent call last)",
      "\u001b[0;32m<ipython-input-86-4205eb1bd3ed>\u001b[0m in \u001b[0;36m<module>\u001b[0;34m\u001b[0m\n\u001b[0;32m----> 1\u001b[0;31m \u001b[0mstuart_score\u001b[0m  \u001b[0;34m=\u001b[0m \u001b[0msum\u001b[0m\u001b[0;34m(\u001b[0m\u001b[0;34m(\u001b[0m\u001b[0moverlapping_string\u001b[0m\u001b[0;34m(\u001b[0m\u001b[0mtest_str\u001b[0m\u001b[0;34m,\u001b[0m \u001b[0mword\u001b[0m\u001b[0;34m)\u001b[0m \u001b[0;32mfor\u001b[0m \u001b[0mword\u001b[0m \u001b[0;32min\u001b[0m \u001b[0mstuart_words\u001b[0m\u001b[0;34m)\u001b[0m\u001b[0;34m)\u001b[0m\u001b[0;34m\u001b[0m\u001b[0;34m\u001b[0m\u001b[0m\n\u001b[0m",
      "\u001b[0;32m<ipython-input-86-4205eb1bd3ed>\u001b[0m in \u001b[0;36m<genexpr>\u001b[0;34m(.0)\u001b[0m\n\u001b[0;32m----> 1\u001b[0;31m \u001b[0mstuart_score\u001b[0m  \u001b[0;34m=\u001b[0m \u001b[0msum\u001b[0m\u001b[0;34m(\u001b[0m\u001b[0;34m(\u001b[0m\u001b[0moverlapping_string\u001b[0m\u001b[0;34m(\u001b[0m\u001b[0mtest_str\u001b[0m\u001b[0;34m,\u001b[0m \u001b[0mword\u001b[0m\u001b[0;34m)\u001b[0m \u001b[0;32mfor\u001b[0m \u001b[0mword\u001b[0m \u001b[0;32min\u001b[0m \u001b[0mstuart_words\u001b[0m\u001b[0;34m)\u001b[0m\u001b[0;34m)\u001b[0m\u001b[0;34m\u001b[0m\u001b[0;34m\u001b[0m\u001b[0m\n\u001b[0m",
      "\u001b[0;32m<ipython-input-79-42174c0035da>\u001b[0m in \u001b[0;36m<genexpr>\u001b[0;34m(.0)\u001b[0m\n\u001b[0;32m----> 1\u001b[0;31m \u001b[0mstuart_words\u001b[0m \u001b[0;34m=\u001b[0m \u001b[0;34m(\u001b[0m\u001b[0mx\u001b[0m \u001b[0;32mfor\u001b[0m \u001b[0mx\u001b[0m \u001b[0;32min\u001b[0m \u001b[0mresult\u001b[0m \u001b[0;32mif\u001b[0m \u001b[0mx\u001b[0m\u001b[0;34m[\u001b[0m\u001b[0;36m0\u001b[0m\u001b[0;34m]\u001b[0m \u001b[0;32mnot\u001b[0m \u001b[0;32min\u001b[0m \u001b[0mvowel\u001b[0m\u001b[0;34m)\u001b[0m\u001b[0;34m\u001b[0m\u001b[0;34m\u001b[0m\u001b[0m\n\u001b[0m",
      "\u001b[0;31mTypeError\u001b[0m: 'generator' object is not subscriptable"
     ]
    }
   ],
   "source": [
    "stuart_score  = sum((overlapping_string(test_str, word) for word in stuart_words))"
   ]
  },
  {
   "cell_type": "code",
   "execution_count": 47,
   "id": "2cd5bc16",
   "metadata": {},
   "outputs": [
    {
     "name": "stdout",
     "output_type": "stream",
     "text": [
      "Stuart 7501500\n"
     ]
    }
   ],
   "source": [
    "if stuart_score == kevin_score:\n",
    "    print(\"Draw\")\n",
    "elif stuart_score > kevin_score:\n",
    "    print(f\"Stuart {stuart_score}\")\n",
    "else:\n",
    "    print(f\"Kevin {kevin_score}\")"
   ]
  },
  {
   "cell_type": "code",
   "execution_count": null,
   "id": "68a28007",
   "metadata": {},
   "outputs": [],
   "source": [
    "Failed test cases = [4,5,6,8,10,12,13,14]"
   ]
  },
  {
   "cell_type": "markdown",
   "id": "4eed6307",
   "metadata": {},
   "source": [
    "# Merge the tools "
   ]
  },
  {
   "cell_type": "markdown",
   "id": "501acf23",
   "metadata": {},
   "source": [
    "1. Split the string (s) into k equal parts\n",
    "2. Write a code for removing the duplicate code for each k part\n",
    "3. Print the each k part"
   ]
  },
  {
   "cell_type": "code",
   "execution_count": 105,
   "id": "120b8b81",
   "metadata": {},
   "outputs": [
    {
     "name": "stdout",
     "output_type": "stream",
     "text": [
      "ABCCDEF\n",
      "7\n",
      "ABCDEF\n"
     ]
    }
   ],
   "source": [
    "def merge_the_tools(string, k):\n",
    "    \n",
    "    if len(string)>= 1 and len(string)<= 10000:\n",
    "        no_of_str = int(len(string)/k)\n",
    "\n",
    "        parts = []\n",
    "        m = 0\n",
    "        for _ in range(no_of_str):\n",
    "            parts.append(string[m:m+k])\n",
    "            m = m + k   \n",
    "\n",
    "        result = [\"\".join(list(dict.fromkeys(p))) for p in parts]   # For Ordered Set\n",
    "        for res in result:\n",
    "            print(res)\n",
    "    \n",
    "if __name__ == '__main__':\n",
    "    string, k = input(), int(input())\n",
    "    merge_the_tools(string, k)"
   ]
  },
  {
   "cell_type": "markdown",
   "id": "e29e44e1",
   "metadata": {},
   "source": [
    "# Time Delta"
   ]
  },
  {
   "cell_type": "code",
   "execution_count": 17,
   "id": "0c2bfa38",
   "metadata": {},
   "outputs": [],
   "source": [
    "import datetime"
   ]
  },
  {
   "cell_type": "code",
   "execution_count": 24,
   "id": "c84dd8c8",
   "metadata": {},
   "outputs": [],
   "source": [
    "t1 = \"Sun 10 May 2015 13:54:36 -0700\"\n",
    "t2 = \"Sun 10 May 2015 13:54:36 -0000\""
   ]
  },
  {
   "cell_type": "code",
   "execution_count": 32,
   "id": "4fa88e05",
   "metadata": {},
   "outputs": [],
   "source": [
    "t1 = \"Sat 02 May 2015 19:54:36 +0530\"\n",
    "t2 = \"Fri 01 May 2015 13:54:36 -0000\""
   ]
  },
  {
   "cell_type": "code",
   "execution_count": 21,
   "id": "31d50a98",
   "metadata": {},
   "outputs": [
    {
     "data": {
      "text/plain": [
       "datetime.datetime(2021, 7, 11, 9, 18, 21, 523118)"
      ]
     },
     "execution_count": 21,
     "metadata": {},
     "output_type": "execute_result"
    }
   ],
   "source": [
    "cur_time = datetime.datetime.now()\n",
    "cur_time"
   ]
  },
  {
   "cell_type": "code",
   "execution_count": 23,
   "id": "9dff5e87",
   "metadata": {},
   "outputs": [
    {
     "data": {
      "text/plain": [
       "'Sun 11 July 2021 09:18:21 '"
      ]
     },
     "execution_count": 23,
     "metadata": {},
     "output_type": "execute_result"
    }
   ],
   "source": [
    "cur_time.strftime(\"%a %d %B %Y %H:%M:%S %z\")"
   ]
  },
  {
   "cell_type": "code",
   "execution_count": 37,
   "id": "486ff071",
   "metadata": {},
   "outputs": [
    {
     "name": "stdout",
     "output_type": "stream",
     "text": [
      "1\n",
      "Sun 10 May 2015 13:54:36 -0700\n",
      "Sun 10 May 2015 13:54:36 -0000\n",
      "25200\n"
     ]
    }
   ],
   "source": [
    "# full code\n",
    "import datetime\n",
    "\n",
    "if __name__ == \"__main__\":\n",
    "    \n",
    "    T  = int(input())\n",
    "    for _ in range(T):\n",
    "        t1 = input()\n",
    "        t2 = input()\n",
    "        \n",
    "        t1_obj  = datetime.datetime.strptime(t1,\"%a %d %b %Y %H:%M:%S %z\")\n",
    "        t2_obj = datetime.datetime.strptime(t2,\"%a %d %b %Y %H:%M:%S %z\")\n",
    "    \n",
    "        print(int(abs(t1_obj - t2_obj).total_seconds()))\n",
    "    \n",
    "    "
   ]
  },
  {
   "cell_type": "markdown",
   "id": "6eb734b3",
   "metadata": {},
   "source": [
    "# Leap Year"
   ]
  },
  {
   "cell_type": "code",
   "execution_count": 16,
   "id": "a4948044",
   "metadata": {},
   "outputs": [
    {
     "name": "stdout",
     "output_type": "stream",
     "text": [
      "2022\n",
      "False\n"
     ]
    }
   ],
   "source": [
    "def is_leap(year):\n",
    "    leap = False\n",
    "    \n",
    "    # Write your logic here\n",
    "    if year % 4==0:\n",
    "        if year % 100 ==0:\n",
    "            if year % 400==0:\n",
    "                leap = True\n",
    "        else:\n",
    "            leap = True\n",
    "                        \n",
    "    return leap\n",
    "\n",
    "year = int(input())\n",
    "print(is_leap(year))"
   ]
  },
  {
   "cell_type": "markdown",
   "id": "dc9a9162",
   "metadata": {},
   "source": [
    "# No Idea!"
   ]
  },
  {
   "cell_type": "markdown",
   "id": "84463a37",
   "metadata": {},
   "source": [
    "1. Take the input n(array size) and m(disjoint size)\n",
    "2. Take the array as input\n",
    "3. Take the both disjoint set A and B as input\n",
    "4. check for each element in array if it is in A and then add 1 to happiness if it is in B then subtract 1 from happiness\n",
    "3. Initial value of happiness is 0\n",
    "4. Print the final happiness value"
   ]
  },
  {
   "cell_type": "code",
   "execution_count": null,
   "id": "af7f3e85",
   "metadata": {},
   "outputs": [],
   "source": [
    "3 2\n",
    "1 5 3\n",
    "3 1\n",
    "5 7"
   ]
  },
  {
   "cell_type": "code",
   "execution_count": 116,
   "id": "a8d036d0",
   "metadata": {
    "scrolled": true
   },
   "outputs": [
    {
     "name": "stdout",
     "output_type": "stream",
     "text": [
      "3 2\n"
     ]
    }
   ],
   "source": [
    "n, m = [int(i) for i in input().split()][:2]"
   ]
  },
  {
   "cell_type": "code",
   "execution_count": 55,
   "id": "a5d2b804",
   "metadata": {},
   "outputs": [
    {
     "name": "stdout",
     "output_type": "stream",
     "text": [
      "1 5 3\n"
     ]
    }
   ],
   "source": [
    "array = [int(i) for i in input().split()][:n]"
   ]
  },
  {
   "cell_type": "code",
   "execution_count": 138,
   "id": "24223bad",
   "metadata": {
    "scrolled": true
   },
   "outputs": [
    {
     "name": "stdout",
     "output_type": "stream",
     "text": [
      "2 3 4 5 6\n",
      "4 5\n"
     ]
    }
   ],
   "source": [
    "A = {int(i) for i in input().split()}\n",
    "B = {int(i) for i in input().split()}"
   ]
  },
  {
   "cell_type": "code",
   "execution_count": 149,
   "id": "26a34b04",
   "metadata": {
    "scrolled": true
   },
   "outputs": [
    {
     "data": {
      "text/plain": [
       "[6, 5, 4, 3, 2]"
      ]
     },
     "execution_count": 149,
     "metadata": {},
     "output_type": "execute_result"
    }
   ],
   "source": [
    "list(A)"
   ]
  },
  {
   "cell_type": "code",
   "execution_count": 148,
   "id": "76eb1215",
   "metadata": {
    "scrolled": true
   },
   "outputs": [
    {
     "data": {
      "text/plain": [
       "{2, 3, 4, 5, 6}"
      ]
     },
     "execution_count": 148,
     "metadata": {},
     "output_type": "execute_result"
    }
   ],
   "source": []
  },
  {
   "cell_type": "code",
   "execution_count": 137,
   "id": "ad478fee",
   "metadata": {},
   "outputs": [],
   "source": [
    "A"
   ]
  },
  {
   "cell_type": "code",
   "execution_count": 136,
   "id": "81073c4f",
   "metadata": {},
   "outputs": [],
   "source": []
  },
  {
   "cell_type": "code",
   "execution_count": 120,
   "id": "92644938",
   "metadata": {},
   "outputs": [],
   "source": [
    "while len(A)!=m:\n",
    "    \n",
    "    "
   ]
  },
  {
   "cell_type": "code",
   "execution_count": 121,
   "id": "d4c89207",
   "metadata": {},
   "outputs": [
    {
     "data": {
      "text/plain": [
       "{5, 6}"
      ]
     },
     "execution_count": 121,
     "metadata": {},
     "output_type": "execute_result"
    }
   ],
   "source": [
    "A"
   ]
  },
  {
   "cell_type": "code",
   "execution_count": 75,
   "id": "7f0dad58",
   "metadata": {},
   "outputs": [],
   "source": [
    "happiness  = 0\n",
    "for ele in array:\n",
    "    if ele in A:\n",
    "        happiness += 1\n",
    "    elif ele in B:\n",
    "        happiness -= 1        "
   ]
  },
  {
   "cell_type": "code",
   "execution_count": 85,
   "id": "8e32af7b",
   "metadata": {},
   "outputs": [
    {
     "name": "stdout",
     "output_type": "stream",
     "text": [
      "1\n"
     ]
    }
   ],
   "source": [
    "print(happiness)"
   ]
  },
  {
   "cell_type": "code",
   "execution_count": null,
   "id": "457e138c",
   "metadata": {},
   "outputs": [],
   "source": [
    "# Full code\n",
    "n,m = [int(i) for i in input().split()][:2]\n",
    "\n",
    "array = [int(i) for i in input().split()][:n]\n",
    "\n",
    "A = {int(i) for i in input().split()}\n",
    "B = {int(i) for i in input().split()}\n",
    "\n",
    "happiness  = 0\n",
    "for ele in array:\n",
    "    if ele in A:\n",
    "        happiness += 1\n",
    "    elif ele in B:\n",
    "        happiness -= 1        \n",
    "\n",
    "print(happiness)\n"
   ]
  },
  {
   "cell_type": "code",
   "execution_count": null,
   "id": "be776dce",
   "metadata": {},
   "outputs": [],
   "source": []
  },
  {
   "cell_type": "markdown",
   "id": "48371d7c",
   "metadata": {},
   "source": [
    "# Word Order "
   ]
  },
  {
   "cell_type": "code",
   "execution_count": null,
   "id": "05ae21cb",
   "metadata": {},
   "outputs": [],
   "source": [
    "4\n",
    "bcdef\n",
    "abcdefg\n",
    "bcde\n",
    "bcdef"
   ]
  },
  {
   "cell_type": "code",
   "execution_count": 42,
   "id": "87b38659",
   "metadata": {
    "scrolled": true
   },
   "outputs": [
    {
     "name": "stdout",
     "output_type": "stream",
     "text": [
      "4\n"
     ]
    }
   ],
   "source": [
    "n = int(input())"
   ]
  },
  {
   "cell_type": "code",
   "execution_count": 50,
   "id": "f2510dc0",
   "metadata": {},
   "outputs": [
    {
     "name": "stdout",
     "output_type": "stream",
     "text": [
      "abcdefg\n",
      "bcde\n",
      "bcdef\n",
      "bcdef\n"
     ]
    }
   ],
   "source": [
    "i=0\n",
    "words = []\n",
    "while i!=n:\n",
    "    words.append(input())\n",
    "    i +=1"
   ]
  },
  {
   "cell_type": "code",
   "execution_count": 52,
   "id": "3c0e4946",
   "metadata": {},
   "outputs": [
    {
     "name": "stdout",
     "output_type": "stream",
     "text": [
      "3\n"
     ]
    }
   ],
   "source": [
    "print(len(set(words)))"
   ]
  },
  {
   "cell_type": "code",
   "execution_count": 53,
   "id": "9db5a921",
   "metadata": {},
   "outputs": [],
   "source": [
    "from collections import Counter"
   ]
  },
  {
   "cell_type": "code",
   "execution_count": 55,
   "id": "ebf54b4b",
   "metadata": {},
   "outputs": [],
   "source": [
    "counts = []\n",
    "for key, value in Counter(words).items():\n",
    "    counts.append(value)"
   ]
  },
  {
   "cell_type": "code",
   "execution_count": 58,
   "id": "58559682",
   "metadata": {
    "scrolled": true
   },
   "outputs": [
    {
     "name": "stdout",
     "output_type": "stream",
     "text": [
      "1 1 2\n"
     ]
    }
   ],
   "source": [
    "print(*counts)"
   ]
  },
  {
   "cell_type": "markdown",
   "id": "959e0c88",
   "metadata": {},
   "source": [
    "# Company Logo"
   ]
  },
  {
   "cell_type": "markdown",
   "id": "d5968d0f",
   "metadata": {},
   "source": [
    "Sample input\n",
    "aabbbccde\n",
    "\n",
    "output\n",
    "b 3\n",
    "a 2\n",
    "c 2"
   ]
  },
  {
   "cell_type": "code",
   "execution_count": 67,
   "id": "4b1c73ba",
   "metadata": {},
   "outputs": [
    {
     "name": "stdout",
     "output_type": "stream",
     "text": [
      "qwertyuiopasdfghjklzxcvbnm\n"
     ]
    }
   ],
   "source": [
    "string = input()"
   ]
  },
  {
   "cell_type": "code",
   "execution_count": 68,
   "id": "25bcc323",
   "metadata": {},
   "outputs": [],
   "source": [
    "from collections import Counter"
   ]
  },
  {
   "cell_type": "code",
   "execution_count": 74,
   "id": "625dc3b0",
   "metadata": {},
   "outputs": [],
   "source": [
    "string = sorted(string)"
   ]
  },
  {
   "cell_type": "code",
   "execution_count": 75,
   "id": "9cd4f69b",
   "metadata": {},
   "outputs": [],
   "source": [
    "c=  Counter(string)"
   ]
  },
  {
   "cell_type": "code",
   "execution_count": 76,
   "id": "3f0e6ab4",
   "metadata": {},
   "outputs": [
    {
     "data": {
      "text/plain": [
       "Counter({'a': 1,\n",
       "         'b': 1,\n",
       "         'c': 1,\n",
       "         'd': 1,\n",
       "         'e': 1,\n",
       "         'f': 1,\n",
       "         'g': 1,\n",
       "         'h': 1,\n",
       "         'i': 1,\n",
       "         'j': 1,\n",
       "         'k': 1,\n",
       "         'l': 1,\n",
       "         'm': 1,\n",
       "         'n': 1,\n",
       "         'o': 1,\n",
       "         'p': 1,\n",
       "         'q': 1,\n",
       "         'r': 1,\n",
       "         's': 1,\n",
       "         't': 1,\n",
       "         'u': 1,\n",
       "         'v': 1,\n",
       "         'w': 1,\n",
       "         'x': 1,\n",
       "         'y': 1,\n",
       "         'z': 1})"
      ]
     },
     "execution_count": 76,
     "metadata": {},
     "output_type": "execute_result"
    }
   ],
   "source": [
    "c"
   ]
  },
  {
   "cell_type": "code",
   "execution_count": 77,
   "id": "f40d5e1e",
   "metadata": {},
   "outputs": [
    {
     "name": "stdout",
     "output_type": "stream",
     "text": [
      "[('a', 1), ('b', 1), ('c', 1)]\n"
     ]
    }
   ],
   "source": [
    "print(c.most_common(3))"
   ]
  },
  {
   "cell_type": "code",
   "execution_count": 78,
   "id": "b3abe83c",
   "metadata": {},
   "outputs": [
    {
     "name": "stdout",
     "output_type": "stream",
     "text": [
      "a 1\n",
      "b 1\n",
      "c 1\n"
     ]
    }
   ],
   "source": [
    "for value in c.most_common(3):\n",
    "    print(*value)"
   ]
  },
  {
   "cell_type": "markdown",
   "id": "549b22ec",
   "metadata": {},
   "source": [
    "# Compress the String!"
   ]
  },
  {
   "cell_type": "code",
   "execution_count": 53,
   "id": "7c484b49",
   "metadata": {},
   "outputs": [],
   "source": [
    "input\n",
    "\"1222311\"\n",
    "\n",
    "output \n",
    "\n",
    "(1, 1) (3, 2) (1, 3) (2, 1)"
   ]
  },
  {
   "cell_type": "code",
   "execution_count": 58,
   "id": "d19b0f1a",
   "metadata": {},
   "outputs": [],
   "source": [
    "# full code\n",
    "\n",
    "import itertools\n",
    "data = input()\n",
    "groups = []\n",
    "uniquekeys = []\n",
    "for k, g in itertools.groupby(data):\n",
    "    groups.append(len(list(g)))\n",
    "    uniquekeys.append(int(k))\n",
    "\n",
    "print(*list(zip(groups,uniquekeys)))"
   ]
  },
  {
   "cell_type": "code",
   "execution_count": 63,
   "id": "17e167e1",
   "metadata": {},
   "outputs": [],
   "source": [
    "# for understanding the groupby\n",
    "\n",
    "groups = []\n",
    "uniquekeys = []\n",
    "for k, g in itertools.groupby(data):\n",
    "    groups.append(list(g))      # Store group iterator as a list\n",
    "    uniquekeys.append(k)"
   ]
  },
  {
   "cell_type": "code",
   "execution_count": 64,
   "id": "0f8e0e35",
   "metadata": {},
   "outputs": [
    {
     "data": {
      "text/plain": [
       "[['1'], ['2', '2', '2'], ['3'], ['1', '1']]"
      ]
     },
     "execution_count": 64,
     "metadata": {},
     "output_type": "execute_result"
    }
   ],
   "source": [
    "groups"
   ]
  },
  {
   "cell_type": "code",
   "execution_count": 65,
   "id": "2c07e14f",
   "metadata": {},
   "outputs": [
    {
     "data": {
      "text/plain": [
       "['1', '2', '3', '1']"
      ]
     },
     "execution_count": 65,
     "metadata": {},
     "output_type": "execute_result"
    }
   ],
   "source": [
    "uniquekeys"
   ]
  },
  {
   "cell_type": "markdown",
   "id": "2c2d2fa4",
   "metadata": {},
   "source": [
    "# Iterables and iterators"
   ]
  },
  {
   "cell_type": "code",
   "execution_count": null,
   "id": "45510b74",
   "metadata": {},
   "outputs": [],
   "source": [
    "Sample input\n",
    "4 \n",
    "a a c d\n",
    "2\n"
   ]
  },
  {
   "cell_type": "code",
   "execution_count": null,
   "id": "8c3d1b05",
   "metadata": {},
   "outputs": [],
   "source": [
    "Output \n",
    "0.8333"
   ]
  },
  {
   "cell_type": "code",
   "execution_count": 1,
   "id": "8da1c687",
   "metadata": {},
   "outputs": [],
   "source": [
    "import itertools"
   ]
  },
  {
   "cell_type": "code",
   "execution_count": 42,
   "id": "a6c82a5b",
   "metadata": {
    "scrolled": true
   },
   "outputs": [
    {
     "name": "stdout",
     "output_type": "stream",
     "text": [
      "4\n"
     ]
    }
   ],
   "source": [
    "n = int(input())"
   ]
  },
  {
   "cell_type": "code",
   "execution_count": 47,
   "id": "833cceda",
   "metadata": {
    "scrolled": true
   },
   "outputs": [
    {
     "name": "stdout",
     "output_type": "stream",
     "text": [
      "a a c d\n"
     ]
    }
   ],
   "source": [
    "string = [i for i in input().split()][:n]"
   ]
  },
  {
   "cell_type": "code",
   "execution_count": 50,
   "id": "edf485ea",
   "metadata": {},
   "outputs": [
    {
     "name": "stdout",
     "output_type": "stream",
     "text": [
      "2\n"
     ]
    }
   ],
   "source": [
    "k = int(input())"
   ]
  },
  {
   "cell_type": "code",
   "execution_count": 54,
   "id": "11acab09",
   "metadata": {},
   "outputs": [],
   "source": [
    "x= itertools.combinations(\"\".join(string),k)"
   ]
  },
  {
   "cell_type": "code",
   "execution_count": 52,
   "id": "33cd7271",
   "metadata": {},
   "outputs": [],
   "source": [
    "# Full code\n",
    "import itertools\n",
    "\n",
    "n = int(input())\n",
    "\n",
    "string = [i for i in input().split()][:n]\n",
    "\n",
    "k = int(input())\n",
    "\n",
    "x= itertools.combinations(\"\".join(string),k)\n",
    "\n",
    "total = 0\n",
    "count = 0\n",
    "for i in x:\n",
    "    total += 1\n",
    "    if 'a' in i:\n",
    "        count +=1\n",
    "\n",
    "print(count/total)\n"
   ]
  },
  {
   "cell_type": "markdown",
   "id": "523e1b1a",
   "metadata": {},
   "source": [
    "# Triangle Quest 2"
   ]
  },
  {
   "cell_type": "code",
   "execution_count": null,
   "id": "8529bede",
   "metadata": {},
   "outputs": [],
   "source": [
    "Sample inputs\n",
    "5"
   ]
  },
  {
   "cell_type": "code",
   "execution_count": null,
   "id": "9bdff1e2",
   "metadata": {},
   "outputs": [],
   "source": [
    "Sample output\n",
    "1\n",
    "121\n",
    "12321\n",
    "1234321\n",
    "123454321"
   ]
  },
  {
   "cell_type": "code",
   "execution_count": 88,
   "id": "a0bd70ea",
   "metadata": {
    "scrolled": true
   },
   "outputs": [
    {
     "name": "stdout",
     "output_type": "stream",
     "text": [
      "5\n",
      "1\n",
      "121\n",
      "12321\n",
      "1234321\n",
      "123454321\n"
     ]
    }
   ],
   "source": [
    "for i in range(1,int(input())+1): #More than 2 lines will result in 0 score. Do not leave a blank line also\n",
    "    print (((10**i - 1)//9)**2)"
   ]
  }
 ],
 "metadata": {
  "kernelspec": {
   "display_name": "Python 3",
   "language": "python",
   "name": "python3"
  },
  "language_info": {
   "codemirror_mode": {
    "name": "ipython",
    "version": 3
   },
   "file_extension": ".py",
   "mimetype": "text/x-python",
   "name": "python",
   "nbconvert_exporter": "python",
   "pygments_lexer": "ipython3",
   "version": "3.7.10"
  }
 },
 "nbformat": 4,
 "nbformat_minor": 5
}
