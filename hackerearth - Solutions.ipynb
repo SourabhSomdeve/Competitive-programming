{
 "cells": [
  {
   "cell_type": "markdown",
   "metadata": {},
   "source": [
    "## Going to office "
   ]
  },
  {
   "cell_type": "code",
   "execution_count": null,
   "metadata": {},
   "outputs": [],
   "source": [
    "dist = int(input())\n",
    "Oc,Of,Od = map(int,input().rstrip().split())\n",
    "Cs,Cb,Cm,Cd = map(int,input().rstrip().split())\n",
    "\n",
    "online_cost = Oc + (dist-Of)*Od\n",
    "offline_cost = Cb + (dist/Cs)*Cm + (dist*Cd)\n",
    "if online_cost <= offline_cost:\n",
    "    print(\"Online Taxi\")\n",
    "else:\n",
    "    print(\"Classic Taxi\")"
   ]
  },
  {
   "cell_type": "markdown",
   "metadata": {},
   "source": [
    "## Lunch Box "
   ]
  },
  {
   "cell_type": "code",
   "execution_count": 86,
   "metadata": {},
   "outputs": [
    {
     "name": "stdout",
     "output_type": "stream",
     "text": [
      "1\n",
      "10 4\n",
      "3 9 4 2\n"
     ]
    }
   ],
   "source": [
    "output = []\n",
    "for _ in range(int(input())):\n",
    "    n,m = map(int,input().rstrip().split())\n",
    "    arr = list(map(int,input().rstrip().split()))\n",
    "    \n",
    "    if len(arr)==m:\n",
    "        arr = sorted(arr)\n",
    "        total_order = 0\n",
    "        count = 0\n",
    "        for ele in arr:\n",
    "            total_order += ele\n",
    "            if total_order < n:\n",
    "                count += 1\n",
    "            else:\n",
    "                break\n",
    "    else:\n",
    "        exit()\n",
    "    "
   ]
  },
  {
   "cell_type": "markdown",
   "metadata": {},
   "source": [
    "## Cost of balloon"
   ]
  },
  {
   "cell_type": "code",
   "execution_count": 78,
   "metadata": {},
   "outputs": [
    {
     "name": "stdout",
     "output_type": "stream",
     "text": [
      "2\n",
      "3 4\n",
      "1\n",
      "1 1\n",
      "4 5\n",
      "1\n",
      "0 1\n",
      "7 4\n"
     ]
    }
   ],
   "source": [
    "import numpy as np\n",
    "no_of_test = int(input())\n",
    "total = []\n",
    "for _ in range(no_of_test):\n",
    "    green, purple = map(int,input().rstrip().split())\n",
    "    \n",
    "    arr = []\n",
    "    \n",
    "    for _ in range(int(input())):\n",
    "        arr.append(list(map(int,input().rstrip().split())))\n",
    "    \n",
    "    arr = np.array(arr)\n",
    "    if green >= purple:\n",
    "        total.append( min(green * sum(arr[:,0]) + purple * sum(arr[:,1]),\\\n",
    "               purple * sum(arr[:,0]) + green * sum(arr[:,1])))\n",
    "    else:\n",
    "        total.append(min(purple * sum(arr[:,0]) + green * sum(arr[:,1]),\\\n",
    "            green * sum(arr[:,0]) + purple * sum(arr[:,1])))\n",
    "\n",
    "for ele in total:\n",
    "    print(ele)"
   ]
  },
  {
   "cell_type": "markdown",
   "metadata": {},
   "source": [
    "## Divisibility "
   ]
  },
  {
   "cell_type": "code",
   "execution_count": 1,
   "metadata": {
    "scrolled": true
   },
   "outputs": [
    {
     "name": "stdout",
     "output_type": "stream",
     "text": [
      "5\n",
      "12 45 87 56 84\n"
     ]
    }
   ],
   "source": [
    "n = int(input())\n",
    "arr = list(map(int,input().rstrip().split()))"
   ]
  },
  {
   "cell_type": "code",
   "execution_count": 19,
   "metadata": {},
   "outputs": [],
   "source": [
    "last_digit = [str(ele % 10) for ele in arr]"
   ]
  },
  {
   "cell_type": "code",
   "execution_count": 24,
   "metadata": {},
   "outputs": [
    {
     "data": {
      "text/plain": [
       "False"
      ]
     },
     "execution_count": 24,
     "metadata": {},
     "output_type": "execute_result"
    }
   ],
   "source": [
    "if (int(\"\".join(last_digit)) % 10 == 0):\n",
    "    print(\"Yes\")\n",
    "else:\n",
    "    print(\"No\")"
   ]
  },
  {
   "cell_type": "code",
   "execution_count": null,
   "metadata": {},
   "outputs": [],
   "source": []
  }
 ],
 "metadata": {
  "kernelspec": {
   "display_name": "Python 3 (ipykernel)",
   "language": "python",
   "name": "python3"
  },
  "language_info": {
   "codemirror_mode": {
    "name": "ipython",
    "version": 3
   },
   "file_extension": ".py",
   "mimetype": "text/x-python",
   "name": "python",
   "nbconvert_exporter": "python",
   "pygments_lexer": "ipython3",
   "version": "3.9.5"
  }
 },
 "nbformat": 4,
 "nbformat_minor": 4
}
