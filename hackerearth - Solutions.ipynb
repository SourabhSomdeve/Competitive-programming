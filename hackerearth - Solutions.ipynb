{
 "cells": [
  {
   "cell_type": "markdown",
   "metadata": {},
   "source": [
    "## Monk and Nice Strings"
   ]
  },
  {
   "cell_type": "code",
   "execution_count": 14,
   "metadata": {},
   "outputs": [
    {
     "name": "stdout",
     "output_type": "stream",
     "text": [
      "4\n"
     ]
    }
   ],
   "source": [
    "n = int(input())"
   ]
  },
  {
   "cell_type": "code",
   "execution_count": 20,
   "metadata": {},
   "outputs": [
    {
     "name": "stdout",
     "output_type": "stream",
     "text": [
      "a\n",
      "c\n",
      "d\n",
      "b\n"
     ]
    }
   ],
   "source": [
    "arr = []\n",
    "for i in range(n):\n",
    "    arr.append(input())"
   ]
  },
  {
   "cell_type": "code",
   "execution_count": 24,
   "metadata": {},
   "outputs": [
    {
     "data": {
      "text/plain": [
       "['a', 'c', 'd', 'b']"
      ]
     },
     "execution_count": 24,
     "metadata": {},
     "output_type": "execute_result"
    }
   ],
   "source": [
    "arr"
   ]
  },
  {
   "cell_type": "code",
   "execution_count": 27,
   "metadata": {},
   "outputs": [
    {
     "name": "stdout",
     "output_type": "stream",
     "text": [
      "0\n",
      "1\n",
      "2\n",
      "1\n"
     ]
    }
   ],
   "source": [
    "for ind in range(n):\n",
    "    counter = 0\n",
    "    for i in range(0,ind):\n",
    "        if arr[ind] > arr[i]:\n",
    "            counter = counter+1\n",
    "    print(counter)"
   ]
  },
  {
   "cell_type": "markdown",
   "metadata": {},
   "source": [
    "## Equal elements"
   ]
  },
  {
   "cell_type": "code",
   "execution_count": 12,
   "metadata": {
    "scrolled": true
   },
   "outputs": [
    {
     "name": "stdout",
     "output_type": "stream",
     "text": [
      "1\n",
      "4 \n",
      "3 5 2 3\n",
      "1\n"
     ]
    }
   ],
   "source": [
    "for _ in range(int(input())):\n",
    "    n = int(input())\n",
    "    a = list(map(int,input().rstrip().split()))\n",
    "    x = sum([0 if ele%2==0 else 1 for ele in a])\n",
    "    print(min(x, (n-x)))\n",
    "    "
   ]
  },
  {
   "cell_type": "markdown",
   "metadata": {},
   "source": [
    "## Triplets"
   ]
  },
  {
   "cell_type": "code",
   "execution_count": 29,
   "metadata": {},
   "outputs": [],
   "source": [
    "# Input\n",
    "A = 12\n",
    "B = 16 \n",
    "C = 12\n",
    "\n",
    "#Output\n",
    "score = 2"
   ]
  },
  {
   "cell_type": "code",
   "execution_count": 32,
   "metadata": {},
   "outputs": [],
   "source": [
    "A, B, C = int((A+B)/2), int((B+C)/2), int((C+A)/2)"
   ]
  },
  {
   "cell_type": "code",
   "execution_count": 33,
   "metadata": {
    "scrolled": true
   },
   "outputs": [
    {
     "data": {
      "text/plain": [
       "(14, 13, 13)"
      ]
     },
     "execution_count": 33,
     "metadata": {},
     "output_type": "execute_result"
    }
   ],
   "source": [
    "A, B, C"
   ]
  },
  {
   "cell_type": "code",
   "execution_count": 5,
   "metadata": {},
   "outputs": [],
   "source": [
    "def count_score(A,B,C,score = 1):\n",
    "    \n",
    "    A, B, C = int((A+B)/2), int((B+C)/2), int((C+A)/2)\n",
    "    \n",
    "    if (A%2!=0) or (B%2!=0) or (C%2!=0):\n",
    "        return score\n",
    "    \n",
    "    score = score+1\n",
    "    score = count_score(A,B,C,score)\n",
    "    return score\n",
    "    "
   ]
  },
  {
   "cell_type": "code",
   "execution_count": 6,
   "metadata": {},
   "outputs": [
    {
     "data": {
      "text/plain": [
       "2"
      ]
     },
     "execution_count": 6,
     "metadata": {},
     "output_type": "execute_result"
    }
   ],
   "source": [
    "A = 12\n",
    "B = 16 \n",
    "C = 12\n",
    "score = count_score(A,B,C)\n",
    "score"
   ]
  },
  {
   "cell_type": "code",
   "execution_count": null,
   "metadata": {},
   "outputs": [],
   "source": []
  },
  {
   "cell_type": "markdown",
   "metadata": {},
   "source": [
    "## Going to office "
   ]
  },
  {
   "cell_type": "code",
   "execution_count": null,
   "metadata": {},
   "outputs": [],
   "source": [
    "dist = int(input())\n",
    "Oc,Of,Od = map(int,input().rstrip().split())\n",
    "Cs,Cb,Cm,Cd = map(int,input().rstrip().split())\n",
    "\n",
    "online_cost = Oc + (dist-Of)*Od\n",
    "offline_cost = Cb + (dist/Cs)*Cm + (dist*Cd)\n",
    "if online_cost <= offline_cost:\n",
    "    print(\"Online Taxi\")\n",
    "else:\n",
    "    print(\"Classic Taxi\")"
   ]
  },
  {
   "cell_type": "markdown",
   "metadata": {},
   "source": [
    "## Lunch Box "
   ]
  },
  {
   "cell_type": "code",
   "execution_count": 86,
   "metadata": {},
   "outputs": [
    {
     "name": "stdout",
     "output_type": "stream",
     "text": [
      "1\n",
      "10 4\n",
      "3 9 4 2\n"
     ]
    }
   ],
   "source": [
    "output = []\n",
    "for _ in range(int(input())):\n",
    "    n,m = map(int,input().rstrip().split())\n",
    "    arr = list(map(int,input().rstrip().split()))\n",
    "    \n",
    "    if len(arr)==m:\n",
    "        arr = sorted(arr)\n",
    "        total_order = 0\n",
    "        count = 0\n",
    "        for ele in arr:\n",
    "            total_order += ele\n",
    "            if total_order < n:\n",
    "                count += 1\n",
    "            else:\n",
    "                break\n",
    "    else:\n",
    "        exit()\n",
    "    "
   ]
  },
  {
   "cell_type": "markdown",
   "metadata": {},
   "source": [
    "## Cost of balloon"
   ]
  },
  {
   "cell_type": "code",
   "execution_count": 78,
   "metadata": {},
   "outputs": [
    {
     "name": "stdout",
     "output_type": "stream",
     "text": [
      "2\n",
      "3 4\n",
      "1\n",
      "1 1\n",
      "4 5\n",
      "1\n",
      "0 1\n",
      "7 4\n"
     ]
    }
   ],
   "source": [
    "import numpy as np\n",
    "no_of_test = int(input())\n",
    "total = []\n",
    "for _ in range(no_of_test):\n",
    "    green, purple = map(int,input().rstrip().split())\n",
    "    \n",
    "    arr = []\n",
    "    \n",
    "    for _ in range(int(input())):\n",
    "        arr.append(list(map(int,input().rstrip().split())))\n",
    "    \n",
    "    arr = np.array(arr)\n",
    "    if green >= purple:\n",
    "        total.append( min(green * sum(arr[:,0]) + purple * sum(arr[:,1]),\\\n",
    "               purple * sum(arr[:,0]) + green * sum(arr[:,1])))\n",
    "    else:\n",
    "        total.append(min(purple * sum(arr[:,0]) + green * sum(arr[:,1]),\\\n",
    "            green * sum(arr[:,0]) + purple * sum(arr[:,1])))\n",
    "\n",
    "for ele in total:\n",
    "    print(ele)"
   ]
  },
  {
   "cell_type": "markdown",
   "metadata": {},
   "source": [
    "## Divisibility "
   ]
  },
  {
   "cell_type": "code",
   "execution_count": 1,
   "metadata": {
    "scrolled": true
   },
   "outputs": [
    {
     "name": "stdout",
     "output_type": "stream",
     "text": [
      "5\n",
      "12 45 87 56 84\n"
     ]
    }
   ],
   "source": [
    "n = int(input())\n",
    "arr = list(map(int,input().rstrip().split()))"
   ]
  },
  {
   "cell_type": "code",
   "execution_count": 19,
   "metadata": {},
   "outputs": [],
   "source": [
    "last_digit = [str(ele % 10) for ele in arr]"
   ]
  },
  {
   "cell_type": "code",
   "execution_count": 24,
   "metadata": {},
   "outputs": [
    {
     "data": {
      "text/plain": [
       "False"
      ]
     },
     "execution_count": 24,
     "metadata": {},
     "output_type": "execute_result"
    }
   ],
   "source": [
    "if (int(\"\".join(last_digit)) % 10 == 0):\n",
    "    print(\"Yes\")\n",
    "else:\n",
    "    print(\"No\")"
   ]
  },
  {
   "cell_type": "code",
   "execution_count": null,
   "metadata": {},
   "outputs": [],
   "source": []
  }
 ],
 "metadata": {
  "kernelspec": {
   "display_name": "Python 3 (ipykernel)",
   "language": "python",
   "name": "python3"
  },
  "language_info": {
   "codemirror_mode": {
    "name": "ipython",
    "version": 3
   },
   "file_extension": ".py",
   "mimetype": "text/x-python",
   "name": "python",
   "nbconvert_exporter": "python",
   "pygments_lexer": "ipython3",
   "version": "3.9.5"
  }
 },
 "nbformat": 4,
 "nbformat_minor": 4
}
